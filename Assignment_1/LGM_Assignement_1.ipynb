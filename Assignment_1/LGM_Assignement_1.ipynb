{
  "nbformat": 4,
  "nbformat_minor": 0,
  "metadata": {
    "colab": {
      "name": "LGM_Assignement_1.ipynb",
      "provenance": [],
      "authorship_tag": "ABX9TyMrut7l9HZJI7RWoQR8eKOp",
      "include_colab_link": true
    },
    "kernelspec": {
      "name": "python3",
      "display_name": "Python 3"
    },
    "language_info": {
      "name": "python"
    }
  },
  "cells": [
    {
      "cell_type": "markdown",
      "metadata": {
        "id": "view-in-github",
        "colab_type": "text"
      },
      "source": [
        "<a href=\"https://colab.research.google.com/github/govind17/Generative-Models-TensorFlow/blob/main/Assignment_1/LGM_Assignement_1.ipynb\" target=\"_parent\"><img src=\"https://colab.research.google.com/assets/colab-badge.svg\" alt=\"Open In Colab\"/></a>"
      ]
    },
    {
      "cell_type": "markdown",
      "source": [
        "#Team\n",
        "\n",
        "\n",
        "1.   Govind Shukla (235192)\n",
        "2.   Meghana Rao (234907)\n",
        "3.   Behnam Ensan(230213)"
      ],
      "metadata": {
        "id": "zANgCkbq6lj8"
      }
    },
    {
      "cell_type": "markdown",
      "source": [
        "# Testing Illness\n",
        "Consider a dangerous and/or common illness that people are being tested for to recognize it early (e.g. cancer) and/or prevent its spread (e.g. COVID). The test is either positive or negative. We make the following assumptions:\n",
        "\n",
        "* About 1% of the population has the illness. That is, any given person has a 1% “a priori” probability of being sick.\n",
        "* If a sick person is tested, the test returns a positive result 99.9% of the time.\n",
        "* If a healthy person is tested, the test still returns a positive result 1% of the time.\n",
        "\n",
        "You take part in a study where a random, representative sample of the population is tested for the illness. Your test result is positive. What is the probability that you have the illness?"
      ],
      "metadata": {
        "id": "UV0mn637wXFV"
      }
    },
    {
      "cell_type": "code",
      "source": [
        "import pandas as pd\n",
        "import numpy as np\n",
        "from sklearn.preprocessing import LabelEncoder\n",
        "from sklearn.naive_bayes import GaussianNB"
      ],
      "metadata": {
        "id": "9cyE71tzWBTi"
      },
      "execution_count": 11,
      "outputs": []
    },
    {
      "cell_type": "code",
      "source": [
        "def generateData():\n",
        "  health_status = []\n",
        "  healthy = 'Healthy'\n",
        "  sick = 'Sick'\n",
        "  negative = 'Negative'\n",
        "  positive = 'Positive'\n",
        "  health_status.extend([healthy]*1000)\n",
        "  health_status.extend([sick]*1000)\n",
        "  health_test= []\n",
        "  health_test.extend([negative]*990)\n",
        "  health_test.extend([positive]*10)\n",
        "  health_test.extend([positive]*990)\n",
        "  health_test.extend([negative]*10)\n",
        "  return pd.DataFrame(list(zip(health_status, health_test)),\n",
        "               columns =['Health-status', 'Illness-Test'])\n",
        "  \n",
        "data_df = generateData()"
      ],
      "metadata": {
        "id": "7mOzurVgMYmW"
      },
      "execution_count": 12,
      "outputs": []
    },
    {
      "cell_type": "code",
      "source": [
        "data_df['weights'] = data_df['Health-status'].map({'Healthy' : 99, 'Sick' : 1})\n",
        "random_sample_1 = data_df.sample(frac=0.3, weights='weights', random_state=42)\n",
        "sick = random_sample_1.groupby('Health-status').size().div(len(random_sample_1))\n",
        "print(f'Chance of turning out sick: {sick.iloc[1]}')"
      ],
      "metadata": {
        "colab": {
          "base_uri": "https://localhost:8080/"
        },
        "id": "ZR-eieL1O_rQ",
        "outputId": "8e512a24-4a5b-4940-8c5d-00f5cb8a8fbe"
      },
      "execution_count": 13,
      "outputs": [
        {
          "output_type": "stream",
          "name": "stdout",
          "text": [
            "Chance of turning out sick: 0.013333333333333334\n"
          ]
        }
      ]
    },
    {
      "cell_type": "code",
      "source": [
        "random_sample_2 = data_df.sample(frac=0.4, weights='weights', random_state=42)\n",
        "sick = random_sample_2.groupby('Health-status').size().div(len(random_sample_2))\n",
        "print(f'Chance of turning out sick : {sick.iloc[1]}')"
      ],
      "metadata": {
        "colab": {
          "base_uri": "https://localhost:8080/"
        },
        "id": "Zw7rz0HTS96g",
        "outputId": "eb3e5275-a6a1-4a7f-e32c-86f1a44334d2"
      },
      "execution_count": 14,
      "outputs": [
        {
          "output_type": "stream",
          "name": "stdout",
          "text": [
            "Chance of turning out sick : 0.01875\n"
          ]
        }
      ]
    },
    {
      "cell_type": "code",
      "source": [
        "prior = random_sample_1.groupby('Illness-Test').size().div(len(random_sample_1))\n",
        "prior"
      ],
      "metadata": {
        "colab": {
          "base_uri": "https://localhost:8080/"
        },
        "id": "Ffhzjmv9XEde",
        "outputId": "c6dd1b93-812c-41c0-cb68-dc3cae80af64"
      },
      "execution_count": 28,
      "outputs": [
        {
          "output_type": "execute_result",
          "data": {
            "text/plain": [
              "Illness-Test\n",
              "Negative    0.981667\n",
              "Positive    0.018333\n",
              "dtype: float64"
            ]
          },
          "metadata": {},
          "execution_count": 28
        }
      ]
    },
    {
      "cell_type": "code",
      "source": [
        "likelihood = {}\n",
        "likelihood['Health-status'] = random_sample_1.groupby(['Illness-Test', 'Health-status']).size().div(len(random_sample_1)).div(prior)\n",
        "print (likelihood)"
      ],
      "metadata": {
        "id": "S2Mptkqo-h8m",
        "colab": {
          "base_uri": "https://localhost:8080/"
        },
        "outputId": "5675fb90-0c4f-4d49-ae5a-6dd3662cd286"
      },
      "execution_count": 16,
      "outputs": [
        {
          "output_type": "stream",
          "name": "stdout",
          "text": [
            "{'Health-status': Illness-Test  Health-status\n",
            "Negative      Healthy          1.000000\n",
            "Positive      Healthy          0.272727\n",
            "              Sick             0.727273\n",
            "dtype: float64}\n"
          ]
        }
      ]
    },
    {
      "cell_type": "code",
      "source": [
        "random_sample_1.drop(['weights'],inplace=True, axis=1)\n",
        "le = LabelEncoder()\n",
        "encoded_data = random_sample_1.apply(le.fit_transform)"
      ],
      "metadata": {
        "id": "F_Hn2HsqEuZo"
      },
      "execution_count": 17,
      "outputs": []
    },
    {
      "cell_type": "code",
      "source": [
        "clf = GaussianNB()\n",
        "clf.fit(encoded_data.drop(['Illness-Test'], axis=1).values, encoded_data['Illness-Test'].values)"
      ],
      "metadata": {
        "colab": {
          "base_uri": "https://localhost:8080/"
        },
        "id": "Hmm2QY-WFfYs",
        "outputId": "67548966-c7a6-4824-fb6c-3919b79118aa"
      },
      "execution_count": 18,
      "outputs": [
        {
          "output_type": "execute_result",
          "data": {
            "text/plain": [
              "GaussianNB()"
            ]
          },
          "metadata": {},
          "execution_count": 18
        }
      ]
    },
    {
      "cell_type": "code",
      "source": [
        "X_healthy = np.array([0])\n",
        "print (clf._joint_log_likelihood(X_healthy.reshape(1,-1)))\n",
        "print (\"Test Prediction of Healthy: \", le.inverse_transform(clf.predict(X_healthy.reshape(1,-1))))"
      ],
      "metadata": {
        "colab": {
          "base_uri": "https://localhost:8080/"
        },
        "id": "R5ZZ6WFrFo4D",
        "outputId": "843ce6ac-4c0e-4da2-a0cb-33820aff2994"
      },
      "execution_count": 19,
      "outputs": [
        {
          "output_type": "stream",
          "name": "stdout",
          "text": [
            "[[11.58964648 -5.44243789]]\n",
            "Test Prediction of Healthy:  ['Negative']\n"
          ]
        }
      ]
    },
    {
      "cell_type": "code",
      "source": [
        "X_sick = np.array([1])\n",
        "print (clf._joint_log_likelihood(X_sick.reshape(1,-1)))\n",
        "print (\"Test Prediction of Sick: \", le.inverse_transform(clf.predict(X_sick.reshape(1,-1))))"
      ],
      "metadata": {
        "colab": {
          "base_uri": "https://localhost:8080/"
        },
        "id": "-Ul0zhaJF6F4",
        "outputId": "121d162a-6098-45da-9c1a-dd2b1105c8dc"
      },
      "execution_count": 20,
      "outputs": [
        {
          "output_type": "stream",
          "name": "stdout",
          "text": [
            "[[-3.80067567e+10 -4.29660456e+00]]\n",
            "Test Prediction of Sick:  ['Positive']\n"
          ]
        }
      ]
    },
    {
      "cell_type": "markdown",
      "source": [
        "# References\n",
        "\n",
        "\n",
        "\n",
        "1.   https://ovgu-ailab.github.io/lgm2022/ass1.html\n",
        "2.   https://www.geeksforgeeks.org/naive-bayes-classifiers/\n",
        "3.   http://deebuls.github.io/Naive-Bayes-Pandas.html"
      ],
      "metadata": {
        "id": "ErAO71oo5kKF"
      }
    }
  ]
}